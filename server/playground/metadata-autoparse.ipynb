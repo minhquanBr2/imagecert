{
 "cells": [
  {
   "cell_type": "code",
   "execution_count": 3,
   "metadata": {},
   "outputs": [],
   "source": [
    "from PIL import Image\n",
    "import pillow_heif\n",
    "import imagehash"
   ]
  },
  {
   "cell_type": "code",
   "execution_count": 6,
   "metadata": {},
   "outputs": [],
   "source": [
    "IMAGE_PATH = 'images/IMG_2161.HEIC'\n",
    "# IMAGE_PATH = 'images/golden-retriever.jpg'\n",
    "IMAGE_PATH2 = 'images/IMG_2162.HEIC'"
   ]
  },
  {
   "cell_type": "code",
   "execution_count": 8,
   "metadata": {},
   "outputs": [
    {
     "name": "stdout",
     "output_type": "stream",
     "text": [
      "Basic Metadata:\n",
      "primary: True\n",
      "bit_depth: 8\n",
      "exif: b'Exif\\x00\\x00MM\\x00*\\x00\\x00\\x00\\x08\\x00\\x0b\\x01\\x0f\\x00\\x02\\x00\\x00\\x00\\x06\\x00\\x00\\x00\\x92\\x01\\x10\\x00\\x02\\x00\\x00\\x00\\x12\\x00\\x00\\x00\\x98\\x01\\x12\\x00\\x03\\x00\\x00\\x00\\x01\\x00\\x01\\x00\\x00\\x01\\x1a\\x00\\x05\\x00\\x00\\x00\\x01\\x00\\x00\\x00\\xaa\\x01\\x1b\\x00\\x05\\x00\\x00\\x00\\x01\\x00\\x00\\x00\\xb2\\x01(\\x00\\x03\\x00\\x00\\x00\\x01\\x00\\x02\\x00\\x00\\x011\\x00\\x02\\x00\\x00\\x00\\x07\\x00\\x00\\x00\\xba\\x012\\x00\\x02\\x00\\x00\\x00\\x14\\x00\\x00\\x00\\xc2\\x01<\\x00\\x02\\x00\\x00\\x00\\x12\\x00\\x00\\x00\\xd6\\x87i\\x00\\x04\\x00\\x00\\x00\\x01\\x00\\x00\\x00\\xe8\\x88%\\x00\\x04\\x00\\x00\\x00\\x01\\x00\\x00\\n&\\x00\\x00\\x00\\x00Apple\\x00iPhone 13 Pro Max\\x00\\x00\\x00\\x00H\\x00\\x00\\x00\\x01\\x00\\x00\\x00H\\x00\\x00\\x00\\x0117.5.1\\x00\\x002024:06:09 11:09:44\\x00iPhone 13 Pro Max\\x00\\x00!\\x82\\x9a\\x00\\x05\\x00\\x00\\x00\\x01\\x00\\x00\\x02z\\x82\\x9d\\x00\\x05\\x00\\x00\\x00\\x01\\x00\\x00\\x02\\x82\\x88\"\\x00\\x03\\x00\\x00\\x00\\x01\\x00\\x02\\x00\\x00\\x88\\'\\x00\\x03\\x00\\x00\\x00\\x01\\x00d\\x00\\x00\\x90\\x00\\x00\\x07\\x00\\x00\\x00\\x040232\\x90\\x03\\x00\\x02\\x00\\x00\\x00\\x14\\x00\\x00\\x02\\x8a\\x90\\x04\\x00\\x02\\x00\\x00\\x00\\x14\\x00\\x00\\x02\\x9e\\x90\\x10\\x00\\x02\\x00\\x00\\x00\\x07\\x00\\x00\\x02\\xb2\\x90\\x11\\x00\\x02\\x00\\x00\\x00\\x07\\x00\\x00\\x02\\xba\\x90\\x12\\x00\\x02\\x00\\x00\\x00\\x07\\x00\\x00\\x02\\xc2\\x92\\x01\\x00\\n\\x00\\x00\\x00\\x01\\x00\\x00\\x02\\xca\\x92\\x02\\x00\\x05\\x00\\x00\\x00\\x01\\x00\\x00\\x02\\xd2\\x92\\x03\\x00\\n\\x00\\x00\\x00\\x01\\x00\\x00\\x02\\xda\\x92\\x04\\x00\\n\\x00\\x00\\x00\\x01\\x00\\x00\\x02\\xe2\\x92\\x07\\x00\\x03\\x00\\x00\\x00\\x01\\x00\\x05\\x00\\x00\\x92\\t\\x00\\x03\\x00\\x00\\x00\\x01\\x00\\x10\\x00\\x00\\x92\\n\\x00\\x05\\x00\\x00\\x00\\x01\\x00\\x00\\x02\\xea\\x92\\x14\\x00\\x03\\x00\\x00\\x00\\x04\\x00\\x00\\x02\\xf2\\x92|\\x00\\x07\\x00\\x00\\x06\\xd3\\x00\\x00\\x02\\xfa\\x92\\x91\\x00\\x02\\x00\\x00\\x00\\x04550\\x00\\x92\\x92\\x00\\x02\\x00\\x00\\x00\\x04550\\x00\\xa0\\x01\\x00\\x03\\x00\\x00\\x00\\x01\\xff\\xff\\x00\\x00\\xa0\\x02\\x00\\x04\\x00\\x00\\x00\\x01\\x00\\x00\\x0f\\xc0\\xa0\\x03\\x00\\x04\\x00\\x00\\x00\\x01\\x00\\x00\\x0b\\xd0\\xa2\\x17\\x00\\x03\\x00\\x00\\x00\\x01\\x00\\x02\\x00\\x00\\xa3\\x01\\x00\\x07\\x00\\x00\\x00\\x01\\x01\\x00\\x00\\x00\\xa4\\x02\\x00\\x03\\x00\\x00\\x00\\x01\\x00\\x00\\x00\\x00\\xa4\\x03\\x00\\x03\\x00\\x00\\x00\\x01\\x00\\x00\\x00\\x00\\xa4\\x05\\x00\\x03\\x00\\x00\\x00\\x01\\x00\\x1a\\x00\\x00\\xa42\\x00\\x05\\x00\\x00\\x00\\x04\\x00\\x00\\t\\xce\\xa43\\x00\\x02\\x00\\x00\\x00\\x06\\x00\\x00\\t\\xee\\xa44\\x00\\x02\\x00\\x00\\x001\\x00\\x00\\t\\xf4\\xa4`\\x00\\x03\\x00\\x00\\x00\\x01\\x00\\x02\\x00\\x00\\x00\\x00\\x00\\x00\\x00\\x00\\x00\\x01\\x00\\x00\\x002\\x00\\x00\\x00\\x03\\x00\\x00\\x00\\x022024:06:09 11:09:44\\x002024:06:09 11:09:44\\x00+07:00\\x00\\x00+07:00\\x00\\x00+07:00\\x00\\x00\\x00\\x00\\xbc\\xb3\\x00\\x00!o\\x00\\x00lw\\x00\\x00\\\\\\xb6\\x00\\x010\\xc9\\x00\\x00p\\xe8\\x00\\x00\\x00\\x00\\x00\\x00\\x00\\x01\\x00\\x00\\x009\\x00\\x00\\x00\\n\\x07\\xdf\\x05\\xe2\\t\\x13\\x05/Apple iOS\\x00\\x00\\x01MM\\x007\\x00\\x01\\x00\\t\\x00\\x00\\x00\\x01\\x00\\x00\\x00\\x0e\\x00\\x02\\x00\\x07\\x00\\x00\\x02\\x00\\x00\\x00\\x02\\xa8\\x00\\x03\\x00\\x07\\x00\\x00\\x00h\\x00\\x00\\x04\\xa8\\x00\\x04\\x00\\t\\x00\\x00\\x00\\x01\\x00\\x00\\x00\\x01\\x00\\x05\\x00\\t\\x00\\x00\\x00\\x01\\x00\\x00\\x00\\xc6\\x00\\x06\\x00\\t\\x00\\x00\\x00\\x01\\x00\\x00\\x00\\xcc\\x00\\x07\\x00\\t\\x00\\x00\\x00\\x01\\x00\\x00\\x00\\x01\\x00\\x08\\x00\\n\\x00\\x00\\x00\\x03\\x00\\x00\\x05\\x10\\x00\\x0c\\x00\\n\\x00\\x00\\x00\\x02\\x00\\x00\\x05(\\x00\\r\\x00\\t\\x00\\x00\\x00\\x01\\x00\\x00\\x00\\x18\\x00\\x0e\\x00\\t\\x00\\x00\\x00\\x01\\x00\\x00\\x00\\x04\\x00\\x10\\x00\\t\\x00\\x00\\x00\\x01\\x00\\x00\\x00\\x01\\x00\\x11\\x00\\x02\\x00\\x00\\x00%\\x00\\x00\\x058\\x00\\x14\\x00\\t\\x00\\x00\\x00\\x01\\x00\\x00\\x00\\x0c\\x00\\x17\\x00\\x10\\x00\\x00\\x00\\x01\\x00\\x00\\x05]\\x00\\x19\\x00\\t\\x00\\x00\\x00\\x01\\x00\\x00 \\x02\\x00\\x1a\\x00\\x02\\x00\\x00\\x00\\x06\\x00\\x00\\x05e\\x00\\x1f\\x00\\t\\x00\\x00\\x00\\x01\\x00\\x00\\x00\\x00\\x00 \\x00\\x02\\x00\\x00\\x00%\\x00\\x00\\x05k\\x00!\\x00\\n\\x00\\x00\\x00\\x01\\x00\\x00\\x05\\x90\\x00#\\x00\\t\\x00\\x00\\x00\\x02\\x00\\x00\\x05\\x98\\x00%\\x00\\x10\\x00\\x00\\x00\\x01\\x00\\x00\\x05\\xa0\\x00&\\x00\\t\\x00\\x00\\x00\\x01\\x00\\x00\\x00\\x03\\x00\\'\\x00\\n\\x00\\x00\\x00\\x01\\x00\\x00\\x05\\xa8\\x00+\\x00\\x02\\x00\\x00\\x00%\\x00\\x00\\x05\\xb0\\x00-\\x00\\t\\x00\\x00\\x00\\x01\\x00\\x00\\x13\"\\x00.\\x00\\t\\x00\\x00\\x00\\x01\\x00\\x00\\x00\\x01\\x00/\\x00\\t\\x00\\x00\\x00\\x01\\x00\\x00\\x00>\\x000\\x00\\n\\x00\\x00\\x00\\x01\\x00\\x00\\x05\\xd5\\x003\\x00\\t\\x00\\x00\\x00\\x01\\x00\\x000\\x00\\x004\\x00\\t\\x00\\x00\\x00\\x01\\x00\\x00\\x00\\x05\\x005\\x00\\t\\x00\\x00\\x00\\x01\\x00\\x00\\x00\\x04\\x006\\x00\\t\\x00\\x00\\x00\\x01\\x00\\x00\\x01\\x90\\x007\\x00\\t\\x00\\x00\\x00\\x01\\x00\\x00\\x00\\x04\\x008\\x00\\t\\x00\\x00\\x00\\x01\\x00\\x00\\x01\\xc3\\x009\\x00\\t\\x00\\x00\\x00\\x01\\x00\\x00\\x00\\x00\\x00:\\x00\\t\\x00\\x00\\x00\\x01\\x00\\x00\\x00\\xf3\\x00;\\x00\\t\\x00\\x00\\x00\\x01\\x00\\x00\\x00\\x00\\x00<\\x00\\t\\x00\\x00\\x00\\x01\\x00\\x00\\x00\\x04\\x00=\\x00\\t\\x00\\x00\\x00\\x01\\x00\\x00\\x00\\x11\\x00@\\x00\\x07\\x00\\x00\\x00J\\x00\\x00\\x05\\xdd\\x00A\\x00\\t\\x00\\x00\\x00\\x01\\x00\\x00\\x00\\x00\\x00B\\x00\\t\\x00\\x00\\x00\\x01\\x00\\x00\\x00\\x00\\x00C\\x00\\t\\x00\\x00\\x00\\x01\\x00\\x00\\x00\\x00\\x00D\\x00\\t\\x00\\x00\\x00\\x01\\x00\\x00\\x00\\x00\\x00E\\x00\\t\\x00\\x00\\x00\\x01\\x00\\x00\\x00\\x00\\x00F\\x00\\t\\x00\\x00\\x00\\x01\\x00\\x00\\x00\\x00\\x00H\\x00\\t\\x00\\x00\\x00\\x01\\x00\\x00\\x02A\\x00I\\x00\\t\\x00\\x00\\x00\\x01\\x00\\x00\\x00\\x00\\x00J\\x00\\t\\x00\\x00\\x00\\x01\\x00\\x00\\x00\\x02\\x00M\\x00\\n\\x00\\x00\\x00\\x01\\x00\\x00\\x06\\'\\x00N\\x00\\x07\\x00\\x00\\x00y\\x00\\x00\\x06/\\x00O\\x00\\x07\\x00\\x00\\x00+\\x00\\x00\\x06\\xa8\\x00R\\x00\\t\\x00\\x00\\x00\\x01\\x00\\x00\\x00\\x00\\x00S\\x00\\t\\x00\\x00\\x00\\x01\\x00\\x00\\x00\\x01\\x00\\x00\\x00\\x00\\xb3\\x01{\\x00m\\x00c\\x00T\\x00D\\x00\\x9b\\x00\\xbc\\x00\\xba\\x00\\xb8\\x00x\\x00I\\x00Q\\x00]\\x00`\\x00l\\x00\\xf9\\x00\\x9d\\x01\\x80\\x00l\\x00^\\x00K\\x00|\\x00\\xb7\\x00\\xb6\\x00\\xb6\\x00W\\x00V\\x00`\\x00i\\x00r\\x00`\\x01\\x93\\x00\\xe8\\x00\\x9a\\x01|\\x00m\\x00^\\x00j\\x00\\xbc\\x00\\xb9\\x00\\x9f\\x00T\\x00]\\x00g\\x00\\x86\\x00\\x90\\x01\\xd3\\x00\\xc3\\x00\\xb7\\x00\\xf5\\x00R\\x01\\x9b\\x00~\\x00h\\x00\\xd0\\x00\\xcb\\x00\\x88\\x00b\\x00m\\x00\\xa1\\x00H\\x01\\x8d\\x00\\x89\\x00\\xa7\\x01\\x8f\\x01\\x83\\x01\\x8c\\x01\\x9e\\x01\\x8f\\x01q\\x01[\\x01Q\\x01I\\x01F\\x01C\\x015\\x01*\\x01)\\x01\\x1b\\x01 \\x02\\r\\x02\\x14\\x028\\x02^\\x02#\\x02\\x8c\\x01\\xb5\\x01\\xcc\\x01\\xc2\\x01\\xcf\\x01\\xdd\\x01\\xcc\\x01\\xcd\\x01\\xe1\\x01\\xd8\\x01k\\x02^\\x02o\\x02\\x84\\x02K\\x02l\\x01\\x9f\\x00\\xb2\\x01\\xf2\\x01\\x04\\x02\\r\\x02\\x0b\\x02\\x03\\x02\\x1c\\x02)\\x022\\x02\\x93\\x02\\x97\\x02\\x9e\\x02\\x80\\x01\\x03\\x01\\xd7\\x00\\x93\\x00\\xfb\\x00W\\x01\\xee\\x00\\x1f\\x01\\xc1\\x00\\xbc\\x00\\xb2\\x01O\\x02?\\x02j\\x02c\\x02\\xd8\\x01\\xe4\\x00\\xcb\\x00\\xc3\\x01\\x0e\\x01\\xb6\\x00s\\x00\\x8e\\x00\\xc6\\x00\\x8c\\x01\\xb3\\x00\\x12\\x01\\xdc\\x01\\xc1\\x00\\x8d\\x01\\x0b\\x01\\x84\\x00x\\x00\\x84\\x00\\xdf\\x00\\xe7\\x00\\xd5\\x00+\\x01\\xcc\\x00\\xa4\\x00\\xed\\x01_\\x00r\\x00\\x16\\x01P\\x00C\\x01\\xd0\\x00\\xcb\\x00\\x88\\x006\\x00Q\\x00X\\x00r\\x00\\xa3\\x00]\\x00A\\x00d\\x01f\\x00f\\x00T\\x004\\x00\\xbb\\x00\\xb7\\x00u\\x00d\\x00e\\x00y\\x00Y\\x00d\\x00y\\x01\\x08\\x01G\\x00T\\x00\\x8f\\x00\\x8c\\x00m\\x00!\\x00\\x80\\x00s\\x00K\\x00g\\x00\\x96\\x00r\\x00Y\\x00\\x1b\\x00h\\x01\\xd7\\x008\\x00_\\x00\\xe9\\x00\\x9a\\x00e\\x00Y\\x00\\xa6\\x00\\xe7\\x00\\xac\\x00\\xb4\\x00\\x83\\x00\\xe3\\x00i\\x00#\\x00\\x8c\\x00\\'\\x00!\\x00Z\\x00M\\x00`\\x00r\\x00{\\x00\\xa5\\x00\\xa0\\x00y\\x00\\xb6\\x00p\\x00\\xdb\\x00Y\\x00\\x17\\x001\\x00)\\x00F\\x00,\\x00]\\x00C\\x00s\\x00{\\x00\\x96\\x00q\\x00W\\x00k\\x00O\\x00`\\x00i\\x00D\\x00?\\x00[\\x00L\\x00D\\x00T\\x00b\\x00~\\x00\\x8d\\x00bplist00\\xd4\\x01\\x02\\x03\\x04\\x05\\x06\\x07\\x08UflagsUvalueYtimescaleUepoch\\x10\\x01\\x13\\x00\\x00O+\\x8d,v\\x88\\x12;\\x9a\\xca\\x00\\x10\\x00\\x08\\x11\\x17\\x1d\\'-/8=\\x00\\x00\\x00\\x00\\x00\\x00\\x01\\x01\\x00\\x00\\x00\\x00\\x00\\x00\\x00\\t\\x00\\x00\\x00\\x00\\x00\\x00\\x00\\x00\\x00\\x00\\x00\\x00\\x00\\x00\\x00?\\xff\\xffG\\x1b\\x00\\x00\\xb9o\\x00\\x01\\x9b3\\x00f`\\xe5\\xff\\xff\\xfa\\xac\\x00\\x01\\xb0g\\x00\\x00\\x00\\r\\x00\\x00\\x00@\\x00\\x00\\x00+\\x00\\x00\\x01\\x00140DAC3F-A1EE-447D-91ED-6ECE59825CA3\\x00\\x00\\x00\\x00\\x00BP \\x00q825s\\x00FB796F37-E582-4D7A-BA3D-CAC418A68D18\\x00\\x00\\x00\\x00\\x01\\x00\\x00\\x00\\x02\\x00\\x00\\x01\\x9e\\x10\\x00\\x002\\x00\\x00\\x00\\x00\\x00\\x00\\x10\\x8e\\x00\\x03\\x90\\r\\x00\\x00\\x16\\xbe08074938-3AB8-4ECB-97AA-335A5590DDB1\\x00\\x00\\x00\\x00\\x00\\x00\\x00\\x00\\x01bplist00\\xd4\\x01\\x02\\x03\\x04\\x05\\x06\\x06\\x07Q3Q1Q2Q0\\x10\\x00\"\\x00\\x00\\x00\\x00\\x10\\x01\\x08\\x11\\x13\\x15\\x17\\x19\\x1b \\x00\\x00\\x00\\x00\\x00\\x00\\x01\\x01\\x00\\x00\\x00\\x00\\x00\\x00\\x00\\x08\\x00\\x00\\x00\\x00\\x00\\x00\\x00\\x00\\x00\\x00\\x00\\x00\\x00\\x00\\x00\"\\x00\\x02\\xfe\\xd2\\x00\\x00\\x10Sbplist00\\xd2\\x01\\x02\\x03\\x04Q1Q2\\x10\\x01\\xa2\\x05\\n\\xd2\\x06\\x07\\x08\\tS2.1S2.2#@I\\x1ef\\x00\\x00\\x00\\x00#@\\xdb\\x9f\\xc0\\x00\\x00\\x00\\x00\\xd2\\x06\\x07\\x0b\\x0c#\\x00\\x00\\x00\\x00\\x00\\x00\\x00\\x00#@G\\x00\\x00\\x00\\x00\\x00\\x00\\x08\\r\\x0f\\x11\\x13\\x16\\x1b\\x1f#,5:C\\x00\\x00\\x00\\x00\\x00\\x00\\x01\\x01\\x00\\x00\\x00\\x00\\x00\\x00\\x00\\r\\x00\\x00\\x00\\x00\\x00\\x00\\x00\\x00\\x00\\x00\\x00\\x00\\x00\\x00\\x00Lbplist00\\x10\\x00\\x08\\x00\\x00\\x00\\x00\\x00\\x00\\x01\\x01\\x00\\x00\\x00\\x00\\x00\\x00\\x00\\x01\\x00\\x00\\x00\\x00\\x00\\x00\\x00\\x00\\x00\\x00\\x00\\x00\\x00\\x00\\x00\\n\\x00\\x00\\x04\\x90\\xf5\\x00\\x02\\xe8\\x8f\\x00\\x00\\x00\\t\\x00\\x00\\x00\\x01\\x00\\x00\\x00\\x03\\x00\\x00\\x00\\x02\\x00\\x00\\x00\\x0e\\x00\\x00\\x00\\x05Apple\\x00iPhone 13 Pro Max back triple camera 5.7mm f/1.5\\x00\\x00\\x00\\x0f\\x00\\x01\\x00\\x02\\x00\\x00\\x00\\x02N\\x00\\x00\\x00\\x00\\x02\\x00\\x05\\x00\\x00\\x00\\x03\\x00\\x00\\n\\xe0\\x00\\x03\\x00\\x02\\x00\\x00\\x00\\x02E\\x00\\x00\\x00\\x00\\x04\\x00\\x05\\x00\\x00\\x00\\x03\\x00\\x00\\n\\xf8\\x00\\x05\\x00\\x01\\x00\\x00\\x00\\x01\\x00\\x00\\x00\\x00\\x00\\x06\\x00\\x05\\x00\\x00\\x00\\x01\\x00\\x00\\x0b\\x10\\x00\\x07\\x00\\x05\\x00\\x00\\x00\\x03\\x00\\x00\\x0b\\x18\\x00\\x0c\\x00\\x02\\x00\\x00\\x00\\x02K\\x00\\x00\\x00\\x00\\r\\x00\\x05\\x00\\x00\\x00\\x01\\x00\\x00\\x0b0\\x00\\x10\\x00\\x02\\x00\\x00\\x00\\x02T\\x00\\x00\\x00\\x00\\x11\\x00\\x05\\x00\\x00\\x00\\x01\\x00\\x00\\x0b8\\x00\\x17\\x00\\x02\\x00\\x00\\x00\\x02T\\x00\\x00\\x00\\x00\\x18\\x00\\x05\\x00\\x00\\x00\\x01\\x00\\x00\\x0b@\\x00\\x1d\\x00\\x02\\x00\\x00\\x00\\x0b\\x00\\x00\\x0bH\\x00\\x1f\\x00\\x05\\x00\\x00\\x00\\x01\\x00\\x00\\x0bT\\x00\\x00\\x00\\x00\\x00\\x00\\x00\\x08\\x00\\x00\\x00\\x01\\x00\\x00\\x00\\x06\\x00\\x00\\x00\\x01\\x00\\x00\\t&\\x00\\x00\\x00d\\x00\\x00\\x00b\\x00\\x00\\x00\\x01\\x00\\x00\\x00\\x12\\x00\\x00\\x00\\x01\\x00\\x00\\x07\\x89\\x00\\x00\\x00d\\x00\\x02\\x84r\\x00\\x006C\\x00\\x00\\x00\\x04\\x00\\x00\\x00\\x01\\x00\\x00\\x00\\t\\x00\\x00\\x00\\x01\\x00\\x00\\x10\\xfa\\x00\\x00\\x00d\\x00\\x00\\x00\\x00\\x00\\x00\\x00\\x01\\x00\\x03%\\x85\\x00\\x00\\t$\\x00\\x03%\\x85\\x00\\x00\\t$2024:06:09\\x00\\x00\\x00\\x00\\x00*\\x00\\x00\\x00\\x01'\n",
      "xmp: b'<x:xmpmeta xmlns:x=\"adobe:ns:meta/\" x:xmptk=\"XMP Core 6.0.0\">\\n   <rdf:RDF xmlns:rdf=\"http://www.w3.org/1999/02/22-rdf-syntax-ns#\">\\n      <rdf:Description rdf:about=\"\"\\n            xmlns:xmp=\"http://ns.adobe.com/xap/1.0/\"\\n            xmlns:photoshop=\"http://ns.adobe.com/photoshop/1.0/\"\\n            xmlns:mwg-rs=\"http://www.metadataworkinggroup.com/schemas/regions/\"\\n            xmlns:stArea=\"http://ns.adobe.com/xmp/sType/Area#\"\\n            xmlns:apple-fi=\"http://ns.apple.com/faceinfo/1.0/\"\\n            xmlns:stDim=\"http://ns.adobe.com/xap/1.0/sType/Dimensions#\">\\n         <xmp:CreateDate>2024-06-09T11:09:44</xmp:CreateDate>\\n         <xmp:CreatorTool>17.5.1</xmp:CreatorTool>\\n         <xmp:ModifyDate>2024-06-09T11:09:44</xmp:ModifyDate>\\n         <photoshop:DateCreated>2024-06-09T11:09:44</photoshop:DateCreated>\\n         <mwg-rs:Regions rdf:parseType=\"Resource\">\\n            <mwg-rs:RegionList>\\n               <rdf:Seq>\\n                  <rdf:li rdf:parseType=\"Resource\">\\n                     <mwg-rs:Area rdf:parseType=\"Resource\">\\n                        <stArea:y>0.64149999999999996</stArea:y>\\n                        <stArea:w>0.032476190476190436</stArea:w>\\n                        <stArea:x>0.65871428571428581</stArea:x>\\n                        <stArea:h>0.043000000000000038</stArea:h>\\n                        <stArea:unit>normalized</stArea:unit>\\n                     </mwg-rs:Area>\\n                     <mwg-rs:Type>Face</mwg-rs:Type>\\n                     <mwg-rs:Extensions rdf:parseType=\"Resource\">\\n                        <apple-fi:AngleInfoYaw>3</apple-fi:AngleInfoYaw>\\n                        <apple-fi:AngleInfoRoll>39</apple-fi:AngleInfoRoll>\\n                        <apple-fi:ConfidenceLevel>146</apple-fi:ConfidenceLevel>\\n                        <apple-fi:FaceID>364</apple-fi:FaceID>\\n                     </mwg-rs:Extensions>\\n                  </rdf:li>\\n                  <rdf:li rdf:parseType=\"Resource\">\\n                     <mwg-rs:Area rdf:parseType=\"Resource\">\\n                        <stArea:y>0.48550000000000004</stArea:y>\\n                        <stArea:w>0.027238095238095228</stArea:w>\\n                        <stArea:x>0.29466666666666663</stArea:x>\\n                        <stArea:h>0.036999999999999977</stArea:h>\\n                        <stArea:unit>normalized</stArea:unit>\\n                     </mwg-rs:Area>\\n                     <mwg-rs:Type>Face</mwg-rs:Type>\\n                     <mwg-rs:Extensions rdf:parseType=\"Resource\">\\n                        <apple-fi:AngleInfoYaw>3</apple-fi:AngleInfoYaw>\\n                        <apple-fi:AngleInfoRoll>359</apple-fi:AngleInfoRoll>\\n                        <apple-fi:ConfidenceLevel>10</apple-fi:ConfidenceLevel>\\n                        <apple-fi:FaceID>352</apple-fi:FaceID>\\n                     </mwg-rs:Extensions>\\n                  </rdf:li>\\n                  <rdf:li rdf:parseType=\"Resource\">\\n                     <mwg-rs:Area rdf:parseType=\"Resource\">\\n                        <stArea:y>0.48050000000000004</stArea:y>\\n                        <stArea:w>0.026190476190476208</stArea:w>\\n                        <stArea:x>0.68490476190476191</stArea:x>\\n                        <stArea:h>0.034999999999999976</stArea:h>\\n                        <stArea:unit>normalized</stArea:unit>\\n                     </mwg-rs:Area>\\n                     <mwg-rs:Type>Face</mwg-rs:Type>\\n                     <mwg-rs:Extensions rdf:parseType=\"Resource\">\\n                        <apple-fi:AngleInfoYaw>9</apple-fi:AngleInfoYaw>\\n                        <apple-fi:AngleInfoRoll>4</apple-fi:AngleInfoRoll>\\n                        <apple-fi:ConfidenceLevel>10</apple-fi:ConfidenceLevel>\\n                        <apple-fi:FaceID>334</apple-fi:FaceID>\\n                     </mwg-rs:Extensions>\\n                  </rdf:li>\\n                  <rdf:li rdf:parseType=\"Resource\">\\n                     <mwg-rs:Area rdf:parseType=\"Resource\">\\n                        <stArea:y>0.48550000000000004</stArea:y>\\n                        <stArea:w>0.027238095238095283</stArea:w>\\n                        <stArea:x>0.76923809523809528</stArea:x>\\n                        <stArea:h>0.036999999999999977</stArea:h>\\n                        <stArea:unit>normalized</stArea:unit>\\n                     </mwg-rs:Area>\\n                     <mwg-rs:Type>Face</mwg-rs:Type>\\n                     <mwg-rs:Extensions rdf:parseType=\"Resource\">\\n                        <apple-fi:AngleInfoYaw>4</apple-fi:AngleInfoYaw>\\n                        <apple-fi:AngleInfoRoll>356</apple-fi:AngleInfoRoll>\\n                        <apple-fi:ConfidenceLevel>155</apple-fi:ConfidenceLevel>\\n                        <apple-fi:FaceID>329</apple-fi:FaceID>\\n                     </mwg-rs:Extensions>\\n                  </rdf:li>\\n                  <rdf:li rdf:parseType=\"Resource\">\\n                     <mwg-rs:Area rdf:parseType=\"Resource\">\\n                        <stArea:y>0.63100000000000001</stArea:y>\\n                        <stArea:w>0.030380952380952397</stArea:w>\\n                        <stArea:x>0.54661904761904767</stArea:x>\\n                        <stArea:h>0.040000000000000036</stArea:h>\\n                        <stArea:unit>normalized</stArea:unit>\\n                     </mwg-rs:Area>\\n                     <mwg-rs:Type>Face</mwg-rs:Type>\\n                     <mwg-rs:Extensions rdf:parseType=\"Resource\">\\n                        <apple-fi:AngleInfoYaw>353</apple-fi:AngleInfoYaw>\\n                        <apple-fi:AngleInfoRoll>7</apple-fi:AngleInfoRoll>\\n                        <apple-fi:ConfidenceLevel>189</apple-fi:ConfidenceLevel>\\n                        <apple-fi:FaceID>328</apple-fi:FaceID>\\n                     </mwg-rs:Extensions>\\n                  </rdf:li>\\n                  <rdf:li rdf:parseType=\"Resource\">\\n                     <mwg-rs:Area rdf:parseType=\"Resource\">\\n                        <stArea:y>0.64900000000000002</stArea:y>\\n                        <stArea:w>0.028285714285714247</stArea:w>\\n                        <stArea:x>0.7414761904761904</stArea:x>\\n                        <stArea:h>0.038000000000000034</stArea:h>\\n                        <stArea:unit>normalized</stArea:unit>\\n                     </mwg-rs:Area>\\n                     <mwg-rs:Type>Face</mwg-rs:Type>\\n                     <mwg-rs:Extensions rdf:parseType=\"Resource\">\\n                        <apple-fi:AngleInfoYaw>339</apple-fi:AngleInfoYaw>\\n                        <apple-fi:AngleInfoRoll>15</apple-fi:AngleInfoRoll>\\n                        <apple-fi:ConfidenceLevel>90</apple-fi:ConfidenceLevel>\\n                        <apple-fi:FaceID>327</apple-fi:FaceID>\\n                     </mwg-rs:Extensions>\\n                  </rdf:li>\\n                  <rdf:li rdf:parseType=\"Resource\">\\n                     <mwg-rs:Area rdf:parseType=\"Resource\">\\n                        <stArea:y>0.64500000000000002</stArea:y>\\n                        <stArea:w>0.028285714285714303</stArea:w>\\n                        <stArea:x>0.46071428571428574</stArea:x>\\n                        <stArea:h>0.038000000000000034</stArea:h>\\n                        <stArea:unit>normalized</stArea:unit>\\n                     </mwg-rs:Area>\\n                     <mwg-rs:Type>Face</mwg-rs:Type>\\n                     <mwg-rs:Extensions rdf:parseType=\"Resource\">\\n                        <apple-fi:AngleInfoYaw>1</apple-fi:AngleInfoYaw>\\n                        <apple-fi:AngleInfoRoll>9</apple-fi:AngleInfoRoll>\\n                        <apple-fi:ConfidenceLevel>340</apple-fi:ConfidenceLevel>\\n                        <apple-fi:FaceID>318</apple-fi:FaceID>\\n                     </mwg-rs:Extensions>\\n                  </rdf:li>\\n                  <rdf:li rdf:parseType=\"Resource\">\\n                     <mwg-rs:Area rdf:parseType=\"Resource\">\\n                        <stArea:y>0.65600000000000003</stArea:y>\\n                        <stArea:w>0.028285714285714275</stArea:w>\\n                        <stArea:x>0.17261904761904756</stArea:x>\\n                        <stArea:h>0.038000000000000034</stArea:h>\\n                        <stArea:unit>normalized</stArea:unit>\\n                     </mwg-rs:Area>\\n                     <mwg-rs:Type>Face</mwg-rs:Type>\\n                     <mwg-rs:Extensions rdf:parseType=\"Resource\">\\n                        <apple-fi:AngleInfoYaw>0</apple-fi:AngleInfoYaw>\\n                        <apple-fi:AngleInfoRoll>351</apple-fi:AngleInfoRoll>\\n                        <apple-fi:ConfidenceLevel>77</apple-fi:ConfidenceLevel>\\n                        <apple-fi:FaceID>316</apple-fi:FaceID>\\n                     </mwg-rs:Extensions>\\n                  </rdf:li>\\n                  <rdf:li rdf:parseType=\"Resource\">\\n                     <mwg-rs:Area rdf:parseType=\"Resource\">\\n                        <stArea:y>0.64850000000000008</stArea:y>\\n                        <stArea:w>0.032476190476190492</stArea:w>\\n                        <stArea:x>0.36119047619047617</stArea:x>\\n                        <stArea:h>0.043000000000000038</stArea:h>\\n                        <stArea:unit>normalized</stArea:unit>\\n                     </mwg-rs:Area>\\n                     <mwg-rs:Type>Face</mwg-rs:Type>\\n                     <mwg-rs:Extensions rdf:parseType=\"Resource\">\\n                        <apple-fi:AngleInfoYaw>8</apple-fi:AngleInfoYaw>\\n                        <apple-fi:AngleInfoRoll>351</apple-fi:AngleInfoRoll>\\n                        <apple-fi:ConfidenceLevel>1</apple-fi:ConfidenceLevel>\\n                        <apple-fi:FaceID>313</apple-fi:FaceID>\\n                     </mwg-rs:Extensions>\\n                  </rdf:li>\\n               </rdf:Seq>\\n            </mwg-rs:RegionList>\\n            <mwg-rs:AppliedToDimensions rdf:parseType=\"Resource\">\\n               <stDim:h>3024</stDim:h>\\n               <stDim:w>4032</stDim:w>\\n               <stDim:unit>pixel</stDim:unit>\\n            </mwg-rs:AppliedToDimensions>\\n         </mwg-rs:Regions>\\n      </rdf:Description>\\n   </rdf:RDF>\\n</x:xmpmeta>\\n'\n",
      "metadata: []\n",
      "thumbnails: [320]\n",
      "depth_images: []\n",
      "chroma: 420\n",
      "icc_profile: b'\\x00\\x00\\x02\\x18appl\\x04\\x00\\x00\\x00mntrRGB XYZ \\x07\\xe6\\x00\\x01\\x00\\x01\\x00\\x00\\x00\\x00\\x00\\x00acspAPPL\\x00\\x00\\x00\\x00APPL\\x00\\x00\\x00\\x00\\x00\\x00\\x00\\x00\\x00\\x00\\x00\\x00\\x00\\x00\\x00\\x00\\x00\\x00\\xf6\\xd6\\x00\\x01\\x00\\x00\\x00\\x00\\xd3-appl\\xec\\xfd\\xa3\\x8e8\\x85G\\xc3m\\xb4\\xbdOz\\xda\\x18/\\x00\\x00\\x00\\x00\\x00\\x00\\x00\\x00\\x00\\x00\\x00\\x00\\x00\\x00\\x00\\x00\\x00\\x00\\x00\\x00\\x00\\x00\\x00\\x00\\x00\\x00\\x00\\x00\\x00\\x00\\x00\\ndesc\\x00\\x00\\x00\\xfc\\x00\\x00\\x000cprt\\x00\\x00\\x01,\\x00\\x00\\x00Pwtpt\\x00\\x00\\x01|\\x00\\x00\\x00\\x14rXYZ\\x00\\x00\\x01\\x90\\x00\\x00\\x00\\x14gXYZ\\x00\\x00\\x01\\xa4\\x00\\x00\\x00\\x14bXYZ\\x00\\x00\\x01\\xb8\\x00\\x00\\x00\\x14rTRC\\x00\\x00\\x01\\xcc\\x00\\x00\\x00 chad\\x00\\x00\\x01\\xec\\x00\\x00\\x00,bTRC\\x00\\x00\\x01\\xcc\\x00\\x00\\x00 gTRC\\x00\\x00\\x01\\xcc\\x00\\x00\\x00 mluc\\x00\\x00\\x00\\x00\\x00\\x00\\x00\\x01\\x00\\x00\\x00\\x0cenUS\\x00\\x00\\x00\\x14\\x00\\x00\\x00\\x1c\\x00D\\x00i\\x00s\\x00p\\x00l\\x00a\\x00y\\x00 \\x00P\\x003mluc\\x00\\x00\\x00\\x00\\x00\\x00\\x00\\x01\\x00\\x00\\x00\\x0cenUS\\x00\\x00\\x004\\x00\\x00\\x00\\x1c\\x00C\\x00o\\x00p\\x00y\\x00r\\x00i\\x00g\\x00h\\x00t\\x00 \\x00A\\x00p\\x00p\\x00l\\x00e\\x00 \\x00I\\x00n\\x00c\\x00.\\x00,\\x00 \\x002\\x000\\x002\\x002XYZ \\x00\\x00\\x00\\x00\\x00\\x00\\xf6\\xd5\\x00\\x01\\x00\\x00\\x00\\x00\\xd3,XYZ \\x00\\x00\\x00\\x00\\x00\\x00\\x83\\xdf\\x00\\x00=\\xbf\\xff\\xff\\xff\\xbbXYZ \\x00\\x00\\x00\\x00\\x00\\x00J\\xbf\\x00\\x00\\xb17\\x00\\x00\\n\\xb9XYZ \\x00\\x00\\x00\\x00\\x00\\x00(8\\x00\\x00\\x11\\x0b\\x00\\x00\\xc8\\xb9para\\x00\\x00\\x00\\x00\\x00\\x03\\x00\\x00\\x00\\x02ff\\x00\\x00\\xf2\\xa7\\x00\\x00\\rY\\x00\\x00\\x13\\xd0\\x00\\x00\\n[sf32\\x00\\x00\\x00\\x00\\x00\\x01\\x0cB\\x00\\x00\\x05\\xde\\xff\\xff\\xf3&\\x00\\x00\\x07\\x93\\x00\\x00\\xfd\\x90\\xff\\xff\\xfb\\xa2\\xff\\xff\\xfd\\xa3\\x00\\x00\\x03\\xdc\\x00\\x00\\xc0n'\n",
      "icc_profile_type: prof\n",
      "original_orientation: None\n",
      "\n",
      "EXIF Data:\n",
      "GPSInfo: 2598\n",
      "ResolutionUnit: 2\n",
      "ExifOffset: 232\n",
      "Make: Apple\n",
      "Model: iPhone 13 Pro Max\n",
      "Software: 17.5.1\n",
      "Orientation: 1\n",
      "DateTime: 2024:06:09 11:09:44\n",
      "XResolution: 72.0\n",
      "YResolution: 72.0\n",
      "HostComputer: iPhone 13 Pro Max\n"
     ]
    }
   ],
   "source": [
    "pillow_heif.register_heif_opener()                  # Register HEIF plugin to allow Pillow to open HEIC files\n",
    "\n",
    "def extract_metadata(image_path):        \n",
    "    \n",
    "    # Open image file\n",
    "    with Image.open(image_path) as img:\n",
    "        # Extract basic metadata\n",
    "        info = img.info\n",
    "        print(\"Basic Metadata:\")\n",
    "        for key, value in info.items():\n",
    "            print(f'{key}: {value}')\n",
    "        \n",
    "        # Extract EXIF data\n",
    "        exif_data = img.getexif()\n",
    "        if exif_data:\n",
    "            print(\"\\nEXIF Data:\")\n",
    "            for tag, value in exif_data.items():\n",
    "                tag_name = Image.ExifTags.TAGS.get(tag, tag)\n",
    "                print(f'{tag_name}: {value}')\n",
    "\n",
    "# Extract metadata from the HEIC file\n",
    "extract_metadata(IMAGE_PATH)"
   ]
  },
  {
   "cell_type": "code",
   "execution_count": 19,
   "metadata": {},
   "outputs": [
    {
     "data": {
      "text/plain": [
       "1"
      ]
     },
     "execution_count": 19,
     "metadata": {},
     "output_type": "execute_result"
    }
   ],
   "source": [
    "aHash = imagehash.average_hash(Image.open(IMAGE_PATH))\n",
    "aHash2 = imagehash.average_hash(Image.open(IMAGE_PATH2))\n",
    "# aHash.hash.astype(int)\n",
    "aHash - aHash2"
   ]
  },
  {
   "cell_type": "code",
   "execution_count": 20,
   "metadata": {},
   "outputs": [
    {
     "data": {
      "text/plain": [
       "0"
      ]
     },
     "execution_count": 20,
     "metadata": {},
     "output_type": "execute_result"
    }
   ],
   "source": [
    "cHash = imagehash.colorhash(Image.open(IMAGE_PATH))\n",
    "cHash2 = imagehash.colorhash(Image.open(IMAGE_PATH2))\n",
    "cHash - cHash2"
   ]
  },
  {
   "cell_type": "code",
   "execution_count": 21,
   "metadata": {},
   "outputs": [
    {
     "data": {
      "text/plain": [
       "2"
      ]
     },
     "execution_count": 21,
     "metadata": {},
     "output_type": "execute_result"
    }
   ],
   "source": [
    "dHash = imagehash.dhash(Image.open(IMAGE_PATH))\n",
    "dHash2 = imagehash.dhash(Image.open(IMAGE_PATH2))\n",
    "dHash - dHash2"
   ]
  },
  {
   "cell_type": "code",
   "execution_count": 22,
   "metadata": {},
   "outputs": [
    {
     "data": {
      "text/plain": [
       "0"
      ]
     },
     "execution_count": 22,
     "metadata": {},
     "output_type": "execute_result"
    }
   ],
   "source": [
    "pHash = imagehash.phash(Image.open(IMAGE_PATH))\n",
    "pHash2 = imagehash.phash(Image.open(IMAGE_PATH2))\n",
    "pHash - pHash2"
   ]
  },
  {
   "cell_type": "code",
   "execution_count": 23,
   "metadata": {},
   "outputs": [
    {
     "data": {
      "text/plain": [
       "2"
      ]
     },
     "execution_count": 23,
     "metadata": {},
     "output_type": "execute_result"
    }
   ],
   "source": [
    "wHash = imagehash.whash(Image.open(IMAGE_PATH))\n",
    "wHash2 = imagehash.whash(Image.open(IMAGE_PATH2))\n",
    "wHash - wHash2"
   ]
  },
  {
   "cell_type": "code",
   "execution_count": null,
   "metadata": {},
   "outputs": [],
   "source": []
  }
 ],
 "metadata": {
  "kernelspec": {
   "display_name": "Python 3",
   "language": "python",
   "name": "python3"
  },
  "language_info": {
   "codemirror_mode": {
    "name": "ipython",
    "version": 3
   },
   "file_extension": ".py",
   "mimetype": "text/x-python",
   "name": "python",
   "nbconvert_exporter": "python",
   "pygments_lexer": "ipython3",
   "version": "3.12.4"
  }
 },
 "nbformat": 4,
 "nbformat_minor": 2
}
